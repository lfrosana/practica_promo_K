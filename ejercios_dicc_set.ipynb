{
 "cells": [
  {
   "cell_type": "code",
   "execution_count": 72,
   "metadata": {},
   "outputs": [
    {
     "name": "stdout",
     "output_type": "stream",
     "text": [
      "<class 'dict'>\n"
     ]
    }
   ],
   "source": [
    "#1 crear diccionario vacio\n",
    "animales = {}\n",
    "print(type(animales))"
   ]
  },
  {
   "cell_type": "code",
   "execution_count": 73,
   "metadata": {},
   "outputs": [],
   "source": [
    "#2 Crea un diccionario con elementos\n",
    "animales = {\"leon\":\"mamifero\", \"aguila\": \"ave\", \"tiburon\":\"pez\", \"serpiente\":\"reptil\",\n",
    "            \"rana\":\"anfibio\", \"elefante\": \"mamifero\"}"
   ]
  },
  {
   "cell_type": "code",
   "execution_count": 74,
   "metadata": {},
   "outputs": [
    {
     "name": "stdout",
     "output_type": "stream",
     "text": [
      "rana\n",
      "anfibio\n"
     ]
    }
   ],
   "source": [
    "#3 acceder un valor de una clave en un diccionario\n",
    "clave = input()\n",
    "print(clave)\n",
    "\n",
    "print(animales[\"rana\"])\n"
   ]
  },
  {
   "cell_type": "code",
   "execution_count": 75,
   "metadata": {},
   "outputs": [
    {
     "name": "stdout",
     "output_type": "stream",
     "text": [
      "{'leon': 'mamifero', 'aguila': 'ave', 'tiburon': 'pez', 'serpiente': 'reptil', 'rana': 'anfibio', 'elefante': 'mamifero', 'oso': 'mamifero'}\n"
     ]
    }
   ],
   "source": [
    "#4 Agregar un nuevo par clave-valor a un diccionario\n",
    "animales.update({\"oso\":\"mamifero\"})\n",
    "print(animales)"
   ]
  },
  {
   "cell_type": "code",
   "execution_count": 76,
   "metadata": {},
   "outputs": [
    {
     "name": "stdout",
     "output_type": "stream",
     "text": [
      "{'leon': 'mamifero', 'aguila': 'ave', 'tiburon': 'pez', 'serpiente': 'escamas', 'rana': 'anfibio', 'elefante': 'mamifero', 'oso': 'mamifero'}\n"
     ]
    }
   ],
   "source": [
    "#5 Actualizas el valor de una clave en un diccionario\n",
    "animales[\"serpiente\"] = \"escamas\"\n",
    "print(animales)\n"
   ]
  },
  {
   "cell_type": "code",
   "execution_count": 77,
   "metadata": {},
   "outputs": [
    {
     "name": "stdout",
     "output_type": "stream",
     "text": [
      "\n",
      "{'leon': 'mamifero', 'aguila': 'ave', 'tiburon': 'pez', 'rana': 'anfibio', 'elefante': 'mamifero', 'oso': 'mamifero'}\n"
     ]
    }
   ],
   "source": [
    "#6 Eliminar un par clave-valor de un diccionario\n",
    "clave = input()\n",
    "print(clave)\n",
    "\n",
    "animales.pop(\"serpiente\")\n",
    "print(animales)"
   ]
  },
  {
   "cell_type": "code",
   "execution_count": 78,
   "metadata": {},
   "outputs": [
    {
     "name": "stdout",
     "output_type": "stream",
     "text": [
      "rana\n",
      "True\n"
     ]
    }
   ],
   "source": [
    "#7 Verificar si una clave está presente en un diccionario\n",
    "clave = input()\n",
    "print(clave)\n",
    "\n",
    "print(\"aguila\" in animales)\n"
   ]
  },
  {
   "cell_type": "code",
   "execution_count": 79,
   "metadata": {},
   "outputs": [
    {
     "name": "stdout",
     "output_type": "stream",
     "text": [
      "dict_keys(['leon', 'aguila', 'tiburon', 'rana', 'elefante', 'oso'])\n"
     ]
    }
   ],
   "source": [
    "#8 Obtener una lista de todas las claves de un diccionario\n",
    "lista_animales = animales.keys()\n",
    "print(lista_animales)\n",
    "\n"
   ]
  },
  {
   "cell_type": "code",
   "execution_count": 80,
   "metadata": {},
   "outputs": [
    {
     "name": "stdout",
     "output_type": "stream",
     "text": [
      "dict_values(['mamifero', 'ave', 'pez', 'anfibio', 'mamifero', 'mamifero'])\n"
     ]
    }
   ],
   "source": [
    "#9 Obtener una lista de todos los valores de un diccionario\n",
    "lista_animales = animales.values()\n",
    "print(lista_animales)\n"
   ]
  },
  {
   "cell_type": "code",
   "execution_count": 85,
   "metadata": {},
   "outputs": [
    {
     "data": {
      "text/plain": [
       "'extingido'"
      ]
     },
     "execution_count": 85,
     "metadata": {},
     "output_type": "execute_result"
    }
   ],
   "source": [
    "#10 Utilizar el método setdefault() para establecer un valor predeterminado si la clave no existe\n",
    "animales.setdefault (\"rex\", \"extingido\")\n",
    "\n"
   ]
  },
  {
   "cell_type": "code",
   "execution_count": 82,
   "metadata": {},
   "outputs": [
    {
     "name": "stdout",
     "output_type": "stream",
     "text": [
      "{'aguila': 'ave', 'tiburon': 'pez', 'rana': 'anfibio', 'elefante': 'mamifero', 'oso': 'mamifero', 'rex': 'extingido'}\n"
     ]
    }
   ],
   "source": [
    "#11 Manipulación de un diccionario utilizando pop() y popitem()\n",
    "animales.pop(\"leon\")\n",
    "print(animales)\n",
    "\n",
    "\n"
   ]
  },
  {
   "cell_type": "code",
   "execution_count": 83,
   "metadata": {},
   "outputs": [
    {
     "name": "stdout",
     "output_type": "stream",
     "text": [
      "{'aguila': 'ave', 'tiburon': 'pez', 'rana': 'anfibio', 'elefante': 'mamifero', 'oso': 'mamifero'}\n"
     ]
    }
   ],
   "source": [
    "animales.popitem()\n",
    "print(animales)"
   ]
  },
  {
   "cell_type": "code",
   "execution_count": 86,
   "metadata": {},
   "outputs": [],
   "source": [
    "#1 Crear un conjunto vacío\n",
    "plantas = set()\n"
   ]
  },
  {
   "cell_type": "code",
   "execution_count": 90,
   "metadata": {},
   "outputs": [
    {
     "name": "stdout",
     "output_type": "stream",
     "text": [
      "{'tulipan', 'helecho', 'girasol', 'cactus', 'rosa'}\n"
     ]
    }
   ],
   "source": [
    "#2 Crear un conjunto con elementos\n",
    "plantas = {\"rosa\", \"girasol\", \"tulipan\", \"cactus\",\"helecho\"}\n",
    "print(plantas)"
   ]
  },
  {
   "cell_type": "code",
   "execution_count": 91,
   "metadata": {},
   "outputs": [
    {
     "name": "stdout",
     "output_type": "stream",
     "text": [
      "{'tulipan', 'helecho', 'girasol', 'cactus', 'orquidea', 'rosa'}\n"
     ]
    }
   ],
   "source": [
    "#3 Agregar elementos a un conjunto\n",
    "plantas.add(\"orquidea\")\n",
    "print(plantas)\n"
   ]
  },
  {
   "cell_type": "code",
   "execution_count": 92,
   "metadata": {},
   "outputs": [
    {
     "name": "stdout",
     "output_type": "stream",
     "text": [
      "{'clavel', 'tulipan', 'helecho', 'girasol', 'cactus', 'margarita', 'orquidea', 'rosa'}\n"
     ]
    }
   ],
   "source": [
    "plantas.update([\"margarita\", \"clavel\"])\n",
    "print(plantas)"
   ]
  },
  {
   "cell_type": "code",
   "execution_count": 97,
   "metadata": {},
   "outputs": [
    {
     "name": "stdout",
     "output_type": "stream",
     "text": [
      "rosa\n"
     ]
    }
   ],
   "source": [
    "#4 Eliminar un elemento de un conjunto\n",
    "clave2 =input()\n",
    "print(clave2)"
   ]
  }
 ],
 "metadata": {
  "kernelspec": {
   "display_name": "Python 3",
   "language": "python",
   "name": "python3"
  },
  "language_info": {
   "codemirror_mode": {
    "name": "ipython",
    "version": 3
   },
   "file_extension": ".py",
   "mimetype": "text/x-python",
   "name": "python",
   "nbconvert_exporter": "python",
   "pygments_lexer": "ipython3",
   "version": "3.8.10"
  }
 },
 "nbformat": 4,
 "nbformat_minor": 2
}
